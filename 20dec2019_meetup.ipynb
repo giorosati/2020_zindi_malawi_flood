{
 "cells": [
  {
   "cell_type": "code",
   "execution_count": 1,
   "metadata": {},
   "outputs": [
    {
     "name": "stderr",
     "output_type": "stream",
     "text": [
      "Using TensorFlow backend.\n"
     ]
    }
   ],
   "source": [
    "import pandas as pd\n",
    "import numpy as np\n",
    "from scipy.stats.stats import pearsonr\n",
    "import matplotlib\n",
    "import matplotlib.pyplot as plt\n",
    "import datetime\n",
    "import keras\n",
    "import sklearn.linear_model as lm"
   ]
  },
  {
   "cell_type": "code",
   "execution_count": 2,
   "metadata": {
    "collapsed": true
   },
   "outputs": [],
   "source": [
    "train = pd.read_csv('Train.csv')"
   ]
  },
  {
   "cell_type": "code",
   "execution_count": 3,
   "metadata": {
    "collapsed": true
   },
   "outputs": [],
   "source": [
    "goal = 'target_2015'"
   ]
  },
  {
   "cell_type": "code",
   "execution_count": 4,
   "metadata": {},
   "outputs": [
    {
     "data": {
      "text/html": [
       "<div>\n",
       "<style scoped>\n",
       "    .dataframe tbody tr th:only-of-type {\n",
       "        vertical-align: middle;\n",
       "    }\n",
       "\n",
       "    .dataframe tbody tr th {\n",
       "        vertical-align: top;\n",
       "    }\n",
       "\n",
       "    .dataframe thead th {\n",
       "        text-align: right;\n",
       "    }\n",
       "</style>\n",
       "<table border=\"1\" class=\"dataframe\">\n",
       "  <thead>\n",
       "    <tr style=\"text-align: right;\">\n",
       "      <th></th>\n",
       "      <th>X</th>\n",
       "      <th>Y</th>\n",
       "      <th>target_2015</th>\n",
       "      <th>elevation</th>\n",
       "      <th>precip 2014-11-16 - 2014-11-23</th>\n",
       "      <th>precip 2014-11-23 - 2014-11-30</th>\n",
       "      <th>precip 2014-11-30 - 2014-12-07</th>\n",
       "      <th>precip 2014-12-07 - 2014-12-14</th>\n",
       "      <th>precip 2014-12-14 - 2014-12-21</th>\n",
       "      <th>precip 2014-12-21 - 2014-12-28</th>\n",
       "      <th>...</th>\n",
       "      <th>precip 2019-03-24 - 2019-03-31</th>\n",
       "      <th>precip 2019-03-31 - 2019-04-07</th>\n",
       "      <th>precip 2019-04-07 - 2019-04-14</th>\n",
       "      <th>precip 2019-04-14 - 2019-04-21</th>\n",
       "      <th>precip 2019-04-21 - 2019-04-28</th>\n",
       "      <th>precip 2019-04-28 - 2019-05-05</th>\n",
       "      <th>precip 2019-05-05 - 2019-05-12</th>\n",
       "      <th>precip 2019-05-12 - 2019-05-19</th>\n",
       "      <th>LC_Type1_mode</th>\n",
       "      <th>Square_ID</th>\n",
       "    </tr>\n",
       "  </thead>\n",
       "  <tbody>\n",
       "    <tr>\n",
       "      <td>0</td>\n",
       "      <td>34.26</td>\n",
       "      <td>-15.91</td>\n",
       "      <td>0.0</td>\n",
       "      <td>887.764222</td>\n",
       "      <td>0.000000</td>\n",
       "      <td>0.000000</td>\n",
       "      <td>0.000000</td>\n",
       "      <td>14.844025</td>\n",
       "      <td>14.552823</td>\n",
       "      <td>12.237766</td>\n",
       "      <td>...</td>\n",
       "      <td>0.896323</td>\n",
       "      <td>1.680000</td>\n",
       "      <td>0.000000</td>\n",
       "      <td>0.000000</td>\n",
       "      <td>0.000000</td>\n",
       "      <td>0.000000</td>\n",
       "      <td>0.000000</td>\n",
       "      <td>0.000000</td>\n",
       "      <td>9</td>\n",
       "      <td>4e3c3896-14ce-11ea-bce5-f49634744a41</td>\n",
       "    </tr>\n",
       "    <tr>\n",
       "      <td>1</td>\n",
       "      <td>34.26</td>\n",
       "      <td>-15.90</td>\n",
       "      <td>0.0</td>\n",
       "      <td>743.403912</td>\n",
       "      <td>0.000000</td>\n",
       "      <td>0.000000</td>\n",
       "      <td>0.000000</td>\n",
       "      <td>14.844025</td>\n",
       "      <td>14.552823</td>\n",
       "      <td>12.237766</td>\n",
       "      <td>...</td>\n",
       "      <td>0.896323</td>\n",
       "      <td>1.680000</td>\n",
       "      <td>0.000000</td>\n",
       "      <td>0.000000</td>\n",
       "      <td>0.000000</td>\n",
       "      <td>0.000000</td>\n",
       "      <td>0.000000</td>\n",
       "      <td>0.000000</td>\n",
       "      <td>9</td>\n",
       "      <td>4e3c3897-14ce-11ea-bce5-f49634744a41</td>\n",
       "    </tr>\n",
       "    <tr>\n",
       "      <td>2</td>\n",
       "      <td>34.26</td>\n",
       "      <td>-15.89</td>\n",
       "      <td>0.0</td>\n",
       "      <td>565.728343</td>\n",
       "      <td>0.000000</td>\n",
       "      <td>0.000000</td>\n",
       "      <td>0.000000</td>\n",
       "      <td>14.844025</td>\n",
       "      <td>14.552823</td>\n",
       "      <td>12.237766</td>\n",
       "      <td>...</td>\n",
       "      <td>0.896323</td>\n",
       "      <td>1.680000</td>\n",
       "      <td>0.000000</td>\n",
       "      <td>0.000000</td>\n",
       "      <td>0.000000</td>\n",
       "      <td>0.000000</td>\n",
       "      <td>0.000000</td>\n",
       "      <td>0.000000</td>\n",
       "      <td>9</td>\n",
       "      <td>4e3c3898-14ce-11ea-bce5-f49634744a41</td>\n",
       "    </tr>\n",
       "    <tr>\n",
       "      <td>3</td>\n",
       "      <td>34.26</td>\n",
       "      <td>-15.88</td>\n",
       "      <td>0.0</td>\n",
       "      <td>443.392774</td>\n",
       "      <td>0.000000</td>\n",
       "      <td>0.000000</td>\n",
       "      <td>0.000000</td>\n",
       "      <td>14.844025</td>\n",
       "      <td>14.552823</td>\n",
       "      <td>12.237766</td>\n",
       "      <td>...</td>\n",
       "      <td>0.896323</td>\n",
       "      <td>1.680000</td>\n",
       "      <td>0.000000</td>\n",
       "      <td>0.000000</td>\n",
       "      <td>0.000000</td>\n",
       "      <td>0.000000</td>\n",
       "      <td>0.000000</td>\n",
       "      <td>0.000000</td>\n",
       "      <td>10</td>\n",
       "      <td>4e3c3899-14ce-11ea-bce5-f49634744a41</td>\n",
       "    </tr>\n",
       "    <tr>\n",
       "      <td>4</td>\n",
       "      <td>34.26</td>\n",
       "      <td>-15.87</td>\n",
       "      <td>0.0</td>\n",
       "      <td>437.443428</td>\n",
       "      <td>0.000000</td>\n",
       "      <td>0.000000</td>\n",
       "      <td>0.000000</td>\n",
       "      <td>14.844025</td>\n",
       "      <td>14.552823</td>\n",
       "      <td>12.237766</td>\n",
       "      <td>...</td>\n",
       "      <td>0.896323</td>\n",
       "      <td>1.680000</td>\n",
       "      <td>0.000000</td>\n",
       "      <td>0.000000</td>\n",
       "      <td>0.000000</td>\n",
       "      <td>0.000000</td>\n",
       "      <td>0.000000</td>\n",
       "      <td>0.000000</td>\n",
       "      <td>10</td>\n",
       "      <td>4e3c389a-14ce-11ea-bce5-f49634744a41</td>\n",
       "    </tr>\n",
       "    <tr>\n",
       "      <td>...</td>\n",
       "      <td>...</td>\n",
       "      <td>...</td>\n",
       "      <td>...</td>\n",
       "      <td>...</td>\n",
       "      <td>...</td>\n",
       "      <td>...</td>\n",
       "      <td>...</td>\n",
       "      <td>...</td>\n",
       "      <td>...</td>\n",
       "      <td>...</td>\n",
       "      <td>...</td>\n",
       "      <td>...</td>\n",
       "      <td>...</td>\n",
       "      <td>...</td>\n",
       "      <td>...</td>\n",
       "      <td>...</td>\n",
       "      <td>...</td>\n",
       "      <td>...</td>\n",
       "      <td>...</td>\n",
       "      <td>...</td>\n",
       "      <td>...</td>\n",
       "    </tr>\n",
       "    <tr>\n",
       "      <td>16461</td>\n",
       "      <td>35.86</td>\n",
       "      <td>-15.44</td>\n",
       "      <td>0.0</td>\n",
       "      <td>635.675022</td>\n",
       "      <td>16.956563</td>\n",
       "      <td>31.155531</td>\n",
       "      <td>12.882013</td>\n",
       "      <td>8.810145</td>\n",
       "      <td>6.179829</td>\n",
       "      <td>9.863685</td>\n",
       "      <td>...</td>\n",
       "      <td>11.335339</td>\n",
       "      <td>30.984762</td>\n",
       "      <td>0.518269</td>\n",
       "      <td>5.770066</td>\n",
       "      <td>14.839779</td>\n",
       "      <td>4.928294</td>\n",
       "      <td>10.526186</td>\n",
       "      <td>18.746072</td>\n",
       "      <td>10</td>\n",
       "      <td>4e6f5dfd-14ce-11ea-bce5-f49634744a41</td>\n",
       "    </tr>\n",
       "    <tr>\n",
       "      <td>16462</td>\n",
       "      <td>35.86</td>\n",
       "      <td>-15.43</td>\n",
       "      <td>0.0</td>\n",
       "      <td>632.598892</td>\n",
       "      <td>16.956563</td>\n",
       "      <td>31.155531</td>\n",
       "      <td>12.882013</td>\n",
       "      <td>8.810145</td>\n",
       "      <td>6.179829</td>\n",
       "      <td>9.863685</td>\n",
       "      <td>...</td>\n",
       "      <td>11.335339</td>\n",
       "      <td>30.984762</td>\n",
       "      <td>0.518269</td>\n",
       "      <td>5.770066</td>\n",
       "      <td>14.839779</td>\n",
       "      <td>4.928294</td>\n",
       "      <td>10.526186</td>\n",
       "      <td>18.746072</td>\n",
       "      <td>10</td>\n",
       "      <td>4e6f5dfe-14ce-11ea-bce5-f49634744a41</td>\n",
       "    </tr>\n",
       "    <tr>\n",
       "      <td>16463</td>\n",
       "      <td>35.86</td>\n",
       "      <td>-15.42</td>\n",
       "      <td>0.0</td>\n",
       "      <td>632.450136</td>\n",
       "      <td>16.956563</td>\n",
       "      <td>31.155531</td>\n",
       "      <td>12.882013</td>\n",
       "      <td>8.810145</td>\n",
       "      <td>6.179829</td>\n",
       "      <td>9.863685</td>\n",
       "      <td>...</td>\n",
       "      <td>11.335339</td>\n",
       "      <td>30.984762</td>\n",
       "      <td>0.518269</td>\n",
       "      <td>5.770066</td>\n",
       "      <td>14.839779</td>\n",
       "      <td>4.928294</td>\n",
       "      <td>10.526186</td>\n",
       "      <td>18.746072</td>\n",
       "      <td>10</td>\n",
       "      <td>4e6f5dff-14ce-11ea-bce5-f49634744a41</td>\n",
       "    </tr>\n",
       "    <tr>\n",
       "      <td>16464</td>\n",
       "      <td>35.86</td>\n",
       "      <td>-15.41</td>\n",
       "      <td>0.0</td>\n",
       "      <td>629.272733</td>\n",
       "      <td>16.956563</td>\n",
       "      <td>31.155531</td>\n",
       "      <td>12.882013</td>\n",
       "      <td>8.810145</td>\n",
       "      <td>6.179829</td>\n",
       "      <td>9.863685</td>\n",
       "      <td>...</td>\n",
       "      <td>11.335339</td>\n",
       "      <td>30.984762</td>\n",
       "      <td>0.518269</td>\n",
       "      <td>5.770066</td>\n",
       "      <td>14.839779</td>\n",
       "      <td>4.928294</td>\n",
       "      <td>10.526186</td>\n",
       "      <td>18.746072</td>\n",
       "      <td>10</td>\n",
       "      <td>4e6f5e00-14ce-11ea-bce5-f49634744a41</td>\n",
       "    </tr>\n",
       "    <tr>\n",
       "      <td>16465</td>\n",
       "      <td>35.86</td>\n",
       "      <td>-15.40</td>\n",
       "      <td>0.0</td>\n",
       "      <td>626.164641</td>\n",
       "      <td>16.956563</td>\n",
       "      <td>31.155531</td>\n",
       "      <td>12.882013</td>\n",
       "      <td>8.810145</td>\n",
       "      <td>6.179829</td>\n",
       "      <td>9.863685</td>\n",
       "      <td>...</td>\n",
       "      <td>11.335339</td>\n",
       "      <td>30.984762</td>\n",
       "      <td>0.518269</td>\n",
       "      <td>5.770066</td>\n",
       "      <td>14.839779</td>\n",
       "      <td>4.928294</td>\n",
       "      <td>10.526186</td>\n",
       "      <td>18.746072</td>\n",
       "      <td>10</td>\n",
       "      <td>4e6f5e01-14ce-11ea-bce5-f49634744a41</td>\n",
       "    </tr>\n",
       "  </tbody>\n",
       "</table>\n",
       "<p>16466 rows × 40 columns</p>\n",
       "</div>"
      ],
      "text/plain": [
       "           X      Y  target_2015   elevation  precip 2014-11-16 - 2014-11-23  \\\n",
       "0      34.26 -15.91          0.0  887.764222                        0.000000   \n",
       "1      34.26 -15.90          0.0  743.403912                        0.000000   \n",
       "2      34.26 -15.89          0.0  565.728343                        0.000000   \n",
       "3      34.26 -15.88          0.0  443.392774                        0.000000   \n",
       "4      34.26 -15.87          0.0  437.443428                        0.000000   \n",
       "...      ...    ...          ...         ...                             ...   \n",
       "16461  35.86 -15.44          0.0  635.675022                       16.956563   \n",
       "16462  35.86 -15.43          0.0  632.598892                       16.956563   \n",
       "16463  35.86 -15.42          0.0  632.450136                       16.956563   \n",
       "16464  35.86 -15.41          0.0  629.272733                       16.956563   \n",
       "16465  35.86 -15.40          0.0  626.164641                       16.956563   \n",
       "\n",
       "       precip 2014-11-23 - 2014-11-30  precip 2014-11-30 - 2014-12-07  \\\n",
       "0                            0.000000                        0.000000   \n",
       "1                            0.000000                        0.000000   \n",
       "2                            0.000000                        0.000000   \n",
       "3                            0.000000                        0.000000   \n",
       "4                            0.000000                        0.000000   \n",
       "...                               ...                             ...   \n",
       "16461                       31.155531                       12.882013   \n",
       "16462                       31.155531                       12.882013   \n",
       "16463                       31.155531                       12.882013   \n",
       "16464                       31.155531                       12.882013   \n",
       "16465                       31.155531                       12.882013   \n",
       "\n",
       "       precip 2014-12-07 - 2014-12-14  precip 2014-12-14 - 2014-12-21  \\\n",
       "0                           14.844025                       14.552823   \n",
       "1                           14.844025                       14.552823   \n",
       "2                           14.844025                       14.552823   \n",
       "3                           14.844025                       14.552823   \n",
       "4                           14.844025                       14.552823   \n",
       "...                               ...                             ...   \n",
       "16461                        8.810145                        6.179829   \n",
       "16462                        8.810145                        6.179829   \n",
       "16463                        8.810145                        6.179829   \n",
       "16464                        8.810145                        6.179829   \n",
       "16465                        8.810145                        6.179829   \n",
       "\n",
       "       precip 2014-12-21 - 2014-12-28  ...  precip 2019-03-24 - 2019-03-31  \\\n",
       "0                           12.237766  ...                        0.896323   \n",
       "1                           12.237766  ...                        0.896323   \n",
       "2                           12.237766  ...                        0.896323   \n",
       "3                           12.237766  ...                        0.896323   \n",
       "4                           12.237766  ...                        0.896323   \n",
       "...                               ...  ...                             ...   \n",
       "16461                        9.863685  ...                       11.335339   \n",
       "16462                        9.863685  ...                       11.335339   \n",
       "16463                        9.863685  ...                       11.335339   \n",
       "16464                        9.863685  ...                       11.335339   \n",
       "16465                        9.863685  ...                       11.335339   \n",
       "\n",
       "       precip 2019-03-31 - 2019-04-07  precip 2019-04-07 - 2019-04-14  \\\n",
       "0                            1.680000                        0.000000   \n",
       "1                            1.680000                        0.000000   \n",
       "2                            1.680000                        0.000000   \n",
       "3                            1.680000                        0.000000   \n",
       "4                            1.680000                        0.000000   \n",
       "...                               ...                             ...   \n",
       "16461                       30.984762                        0.518269   \n",
       "16462                       30.984762                        0.518269   \n",
       "16463                       30.984762                        0.518269   \n",
       "16464                       30.984762                        0.518269   \n",
       "16465                       30.984762                        0.518269   \n",
       "\n",
       "       precip 2019-04-14 - 2019-04-21  precip 2019-04-21 - 2019-04-28  \\\n",
       "0                            0.000000                        0.000000   \n",
       "1                            0.000000                        0.000000   \n",
       "2                            0.000000                        0.000000   \n",
       "3                            0.000000                        0.000000   \n",
       "4                            0.000000                        0.000000   \n",
       "...                               ...                             ...   \n",
       "16461                        5.770066                       14.839779   \n",
       "16462                        5.770066                       14.839779   \n",
       "16463                        5.770066                       14.839779   \n",
       "16464                        5.770066                       14.839779   \n",
       "16465                        5.770066                       14.839779   \n",
       "\n",
       "       precip 2019-04-28 - 2019-05-05  precip 2019-05-05 - 2019-05-12  \\\n",
       "0                            0.000000                        0.000000   \n",
       "1                            0.000000                        0.000000   \n",
       "2                            0.000000                        0.000000   \n",
       "3                            0.000000                        0.000000   \n",
       "4                            0.000000                        0.000000   \n",
       "...                               ...                             ...   \n",
       "16461                        4.928294                       10.526186   \n",
       "16462                        4.928294                       10.526186   \n",
       "16463                        4.928294                       10.526186   \n",
       "16464                        4.928294                       10.526186   \n",
       "16465                        4.928294                       10.526186   \n",
       "\n",
       "       precip 2019-05-12 - 2019-05-19  LC_Type1_mode  \\\n",
       "0                            0.000000              9   \n",
       "1                            0.000000              9   \n",
       "2                            0.000000              9   \n",
       "3                            0.000000             10   \n",
       "4                            0.000000             10   \n",
       "...                               ...            ...   \n",
       "16461                       18.746072             10   \n",
       "16462                       18.746072             10   \n",
       "16463                       18.746072             10   \n",
       "16464                       18.746072             10   \n",
       "16465                       18.746072             10   \n",
       "\n",
       "                                  Square_ID  \n",
       "0      4e3c3896-14ce-11ea-bce5-f49634744a41  \n",
       "1      4e3c3897-14ce-11ea-bce5-f49634744a41  \n",
       "2      4e3c3898-14ce-11ea-bce5-f49634744a41  \n",
       "3      4e3c3899-14ce-11ea-bce5-f49634744a41  \n",
       "4      4e3c389a-14ce-11ea-bce5-f49634744a41  \n",
       "...                                     ...  \n",
       "16461  4e6f5dfd-14ce-11ea-bce5-f49634744a41  \n",
       "16462  4e6f5dfe-14ce-11ea-bce5-f49634744a41  \n",
       "16463  4e6f5dff-14ce-11ea-bce5-f49634744a41  \n",
       "16464  4e6f5e00-14ce-11ea-bce5-f49634744a41  \n",
       "16465  4e6f5e01-14ce-11ea-bce5-f49634744a41  \n",
       "\n",
       "[16466 rows x 40 columns]"
      ]
     },
     "execution_count": 4,
     "metadata": {},
     "output_type": "execute_result"
    }
   ],
   "source": [
    "train"
   ]
  },
  {
   "cell_type": "markdown",
   "metadata": {},
   "source": [
    "The data:\n",
    "\n",
    "The land cover classifications are from:\n",
    "\n",
    "https://developers.google.com/earth-engine/datasets/catalog/MODIS_006_MCD12Q1\n",
    "\n",
    "This dataset is using the Land Cover Type 1: Annual International Geosphere-Biosphere Programme (IGBP) classification (LC_Type1)\n",
    "\n",
    "Here are the types, colors, and description for the types of land cover in this system:\n",
    "\n",
    "LC_Type1 Class Table\n",
    "\n",
    "Value\tColor\tDescription\n",
    "1\t05450a\tEvergreen Needleleaf Forests: dominated by evergreen conifer trees (canopy >2m). Tree cover >60%.\n",
    "2\t086a10\tEvergreen Broadleaf Forests: dominated by evergreen broadleaf and palmate trees (canopy >2m). Tree cover >60%.\n",
    "3\t54a708\tDeciduous Needleleaf Forests: dominated by deciduous needleleaf (larch) trees (canopy >2m). Tree cover >60%.\n",
    "4\t78d203\tDeciduous Broadleaf Forests: dominated by deciduous broadleaf trees (canopy >2m). Tree cover >60%.\n",
    "5\t009900\tMixed Forests: dominated by neither deciduous nor evergreen (40-60% of each) tree type (canopy >2m). Tree cover >60%.\n",
    "6\tc6b044\tClosed Shrublands: dominated by woody perennials (1-2m height) >60% cover.\n",
    "7\tdcd159\tOpen Shrublands: dominated by woody perennials (1-2m height) 10-60% cover.\n",
    "8\tdade48\tWoody Savannas: tree cover 30-60% (canopy >2m).\n",
    "9\tfbff13\tSavannas: tree cover 10-30% (canopy >2m).\n",
    "10\tb6ff05\tGrasslands: dominated by herbaceous annuals (<2m).\n",
    "11\t27ff87\tPermanent Wetlands: permanently inundated lands with 30-60% water cover and >10% vegetated cover.\n",
    "12\tc24f44\tCroplands: at least 60% of area is cultivated cropland.\n",
    "13\ta5a5a5\tUrban and Built-up Lands: at least 30% impervious surface area including building materials, asphalt and vehicles.\n",
    "14\tff6d4c\tCropland/Natural Vegetation Mosaics: mosaics of small-scale cultivation 40-60% with natural tree, shrub, or herbaceous vegetation.\n",
    "15\t69fff8\tPermanent Snow and Ice: at least 60% of area is covered by snow and ice for at least 10 months of the year.\n",
    "16\tf9ffa4\tBarren: at least 60% of area is non-vegetated barren (sand, rock, soil) areas with less than 10% vegetation.\n",
    "17\t1c0dff\tWater Bodies: at least 60% of area is covered by permanent water bodies."
   ]
  },
  {
   "cell_type": "code",
   "execution_count": 5,
   "metadata": {},
   "outputs": [
    {
     "data": {
      "text/plain": [
       "658640"
      ]
     },
     "execution_count": 5,
     "metadata": {},
     "output_type": "execute_result"
    }
   ],
   "source": [
    "train.size"
   ]
  },
  {
   "cell_type": "code",
   "execution_count": 6,
   "metadata": {},
   "outputs": [
    {
     "data": {
      "text/plain": [
       "0.41980444552411034"
      ]
     },
     "execution_count": 6,
     "metadata": {},
     "output_type": "execute_result"
    }
   ],
   "source": [
    "sum(train['target_2015'] != 0) / train.size * 100"
   ]
  },
  {
   "cell_type": "code",
   "execution_count": 8,
   "metadata": {},
   "outputs": [
    {
     "name": "stderr",
     "output_type": "stream",
     "text": [
      "/Users/giovanni/opt/anaconda3/envs/learn-env/lib/python3.6/site-packages/pandas/plotting/_matplotlib/converter.py:103: FutureWarning: Using an implicitly registered datetime converter for a matplotlib plotting method. The converter was registered by pandas on import. Future versions of pandas will require you to explicitly register matplotlib converters.\n",
      "\n",
      "To register the converters:\n",
      "\t>>> from pandas.plotting import register_matplotlib_converters\n",
      "\t>>> register_matplotlib_converters()\n",
      "  warnings.warn(msg, FutureWarning)\n"
     ]
    },
    {
     "data": {
      "image/png": "[encoded data removed]",
      "text/plain": [
       "<Figure size 432x288 with 1 Axes>"
      ]
     },
     "metadata": {
      "needs_background": "light"
     },
     "output_type": "display_data"
    }
   ],
   "source": [
    "# %matplotlib qt\n",
    "precip = train.drop(['X', 'Y', 'target_2015', 'elevation', 'LC_Type1_mode', 'Square_ID'], axis=1).iloc[60]\n",
    "plt.plot([datetime.date(2014, 11, 16) + pd.Timedelta(days = i * 7) for i in range(precip.size)], precip.T)\n",
    "plt.show()"
   ]
  },
  {
   "cell_type": "code",
   "execution_count": 9,
   "metadata": {},
   "outputs": [
    {
     "data": {
      "text/plain": [
       "array([[ 5.23190875e-02, -1.65961777e+01],\n",
       "       [-1.65961777e+01,  1.25876198e+05]])"
      ]
     },
     "execution_count": 9,
     "metadata": {},
     "output_type": "execute_result"
    }
   ],
   "source": [
    "np.cov(train[goal], train['elevation'])"
   ]
  },
  {
   "cell_type": "code",
   "execution_count": 10,
   "metadata": {},
   "outputs": [
    {
     "data": {
      "text/plain": [
       "(-0.2045060625493404, 5.555375279683985e-155)"
      ]
     },
     "execution_count": 10,
     "metadata": {},
     "output_type": "execute_result"
    }
   ],
   "source": [
    "pearsonr(train[goal], train['elevation'])"
   ]
  },
  {
   "cell_type": "code",
   "execution_count": 11,
   "metadata": {},
   "outputs": [
    {
     "data": {
      "text/plain": [
       "[<matplotlib.lines.Line2D at 0x7ffd51449390>]"
      ]
     },
     "execution_count": 11,
     "metadata": {},
     "output_type": "execute_result"
    },
    {
     "data": {
      "image/png": "[encoded data removed]",
      "text/plain": [
       "<Figure size 432x288 with 1 Axes>"
      ]
     },
     "metadata": {
      "needs_background": "light"
     },
     "output_type": "display_data"
    }
   ],
   "source": [
    "plt.plot(train[goal], train['elevation'])"
   ]
  },
  {
   "cell_type": "markdown",
   "metadata": {},
   "source": [
    "Investigate the areas that flooded: when and how much"
   ]
  },
  {
   "cell_type": "markdown",
   "metadata": {},
   "source": [
    "Neural Network Model for time series data"
   ]
  },
  {
   "cell_type": "code",
   "execution_count": 1,
   "metadata": {},
   "outputs": [
    {
     "ename": "ModuleNotFoundError",
     "evalue": "No module named 'keras'",
     "output_type": "error",
     "traceback": [
      "\u001b[0;31m---------------------------------------------------------------------------\u001b[0m",
      "\u001b[0;31mModuleNotFoundError\u001b[0m                       Traceback (most recent call last)",
      "\u001b[0;32m<ipython-input-1-f6ed445efd05>\u001b[0m in \u001b[0;36m<module>\u001b[0;34m()\u001b[0m\n\u001b[1;32m     22\u001b[0m \u001b[0;34m\u001b[0m\u001b[0m\n\u001b[1;32m     23\u001b[0m \u001b[0;31m# keras\u001b[0m\u001b[0;34m\u001b[0m\u001b[0;34m\u001b[0m\u001b[0;34m\u001b[0m\u001b[0m\n\u001b[0;32m---> 24\u001b[0;31m \u001b[0;32mfrom\u001b[0m \u001b[0mkeras\u001b[0m\u001b[0;34m.\u001b[0m\u001b[0mmodels\u001b[0m \u001b[0;32mimport\u001b[0m \u001b[0mSequential\u001b[0m\u001b[0;34m\u001b[0m\u001b[0;34m\u001b[0m\u001b[0m\n\u001b[0m\u001b[1;32m     25\u001b[0m \u001b[0;32mfrom\u001b[0m \u001b[0mkeras\u001b[0m\u001b[0;34m.\u001b[0m\u001b[0mlayers\u001b[0m \u001b[0;32mimport\u001b[0m \u001b[0mDense\u001b[0m\u001b[0;34m\u001b[0m\u001b[0;34m\u001b[0m\u001b[0m\n\u001b[1;32m     26\u001b[0m \u001b[0;32mfrom\u001b[0m \u001b[0mkeras\u001b[0m\u001b[0;34m.\u001b[0m\u001b[0mlayers\u001b[0m \u001b[0;32mimport\u001b[0m \u001b[0mLSTM\u001b[0m\u001b[0;34m\u001b[0m\u001b[0;34m\u001b[0m\u001b[0m\n",
      "\u001b[0;31mModuleNotFoundError\u001b[0m: No module named 'keras'"
     ]
    }
   ],
   "source": [
    "# imports that may need to be added\n",
    "# misc\n",
    "import datetime\n",
    "import math\n",
    "import os, sys, shutil\n",
    "from collections import defaultdict\n",
    "from tqdm import tqdm\n",
    "\n",
    "# basics\n",
    "import numpy as np\n",
    "from numpy import loadtxt\n",
    "import pandas as pd\n",
    "from pandas.plotting import autocorrelation_plot\n",
    "\n",
    "# from statsmodels.tsa.arima_model import ARIMA\n",
    "from sklearn.metrics import mean_squared_error\n",
    "from sklearn.preprocessing import MinMaxScaler\n",
    "# from sklearn.preprocessing import LabelEncoder\n",
    "from sklearn.metrics import mean_squared_error\n",
    "\n",
    "\n",
    "\n",
    "# keras\n",
    "from keras.models import Sequential\n",
    "from keras.layers import Dense\n",
    "from keras.layers import LSTM\n",
    "from keras.layers import Dropout\n",
    "\n",
    "# charting\n",
    "import matplotlib.pyplot as plt\n",
    "\n",
    "import seaborn as sns\n",
    "sns.set_style('darkgrid')\n",
    "%matplotlib inline "
   ]
  },
  {
   "cell_type": "markdown",
   "metadata": {},
   "source": [
    "Modify the cell below to prepare the data for use in an LSTM model"
   ]
  },
  {
   "cell_type": "code",
   "execution_count": 2,
   "metadata": {
    "collapsed": true
   },
   "outputs": [],
   "source": [
    "# modified from https://machinelearningmastery.com/multivariate-time-series-forecasting-lstms-keras/\n",
    "\n",
    "# convert series to supervised learning\n",
    "def series_to_supervised(data, n_in=1, n_out=1, dropnan=True):\n",
    "\tn_vars = 1 if type(data) is list else data.shape[1]\n",
    "\tdf = pd.DataFrame(data)\n",
    "\tcols, names = list(), list()\n",
    "\t# input sequence (t-n, ... t-1)\n",
    "\tfor i in range(n_in, 0, -1):\n",
    "\t\tcols.append(df.shift(i))\n",
    "\t\tnames += [('var%d(t-%d)' % (j+1, i)) for j in range(n_vars)]\n",
    "\t# forecast sequence (t, t+1, ... t+n)\n",
    "\tfor i in range(0, n_out):\n",
    "\t\tcols.append(df.shift(-i))\n",
    "\t\tif i == 0:\n",
    "\t\t\tnames += [('var%d(t)' % (j+1)) for j in range(n_vars)]\n",
    "\t\telse:\n",
    "\t\t\tnames += [('var%d(t+%d)' % (j+1, i)) for j in range(n_vars)]\n",
    "\t# put it all together\n",
    "\tagg = pd.concat(cols, axis=1)\n",
    "\tagg.columns = names\n",
    "\t# drop rows with NaN values\n",
    "\tif dropnan:\n",
    "\t\tagg.dropna(inplace=True)\n",
    "\treturn agg\n",
    " \n"
   ]
  },
  {
   "cell_type": "code",
   "execution_count": null,
   "metadata": {
    "collapsed": true
   },
   "outputs": [],
   "source": []
  }
 ],
 "metadata": {
  "kernelspec": {
   "display_name": "Python 3",
   "language": "python",
   "name": "python3"
  },
  "language_info": {
   "codemirror_mode": {
    "name": "ipython",
    "version": 3
   },
   "file_extension": ".py",
   "mimetype": "text/x-python",
   "name": "python",
   "nbconvert_exporter": "python",
   "pygments_lexer": "ipython3",
   "version": "3.6.8"
  }
 },
 "nbformat": 4,
 "nbformat_minor": 2
}
